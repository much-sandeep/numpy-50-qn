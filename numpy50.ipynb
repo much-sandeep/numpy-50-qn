{
  "nbformat": 4,
  "nbformat_minor": 0,
  "metadata": {
    "colab": {
      "provenance": [],
      "authorship_tag": "ABX9TyPpfx6oTo/Iwy+BbTqcWaH/",
      "include_colab_link": true
    },
    "kernelspec": {
      "name": "python3",
      "display_name": "Python 3"
    },
    "language_info": {
      "name": "python"
    }
  },
  "cells": [
    {
      "cell_type": "markdown",
      "metadata": {
        "id": "view-in-github",
        "colab_type": "text"
      },
      "source": [
        "<a href=\"https://colab.research.google.com/github/much-sandeep/numpy-50-qn/blob/main/numpy50.ipynb\" target=\"_parent\"><img src=\"https://colab.research.google.com/assets/colab-badge.svg\" alt=\"Open In Colab\"/></a>"
      ]
    },
    {
      "cell_type": "code",
      "source": [
        "!git clone https://github.com/much-sandeep/numpy-50-qn.git"
      ],
      "metadata": {
        "colab": {
          "base_uri": "https://localhost:8080/"
        },
        "id": "muuaP4Lgw2w1",
        "outputId": "fa5bb45a-c11f-4ef3-fa07-cc4cca980f46"
      },
      "execution_count": 32,
      "outputs": [
        {
          "output_type": "stream",
          "name": "stdout",
          "text": [
            "Cloning into 'numpy-50-qn'...\n",
            "warning: You appear to have cloned an empty repository.\n"
          ]
        }
      ]
    },
    {
      "cell_type": "code",
      "execution_count": null,
      "metadata": {
        "colab": {
          "base_uri": "https://localhost:8080/"
        },
        "id": "TeeZt_qr_K54",
        "outputId": "4d025125-afff-4d46-a56e-be0f22a233d2"
      },
      "outputs": [
        {
          "output_type": "stream",
          "name": "stdout",
          "text": [
            "[0.0074745  0.51903698 0.         0.54472514 0.01702182 0.68663484\n",
            " 0.19527897 0.07909092 0.39985981 0.49385155]\n"
          ]
        }
      ],
      "source": [
        "import numpy as np\n",
        "\n",
        "# version = np.__version__\n",
        "# config=np.show_config()\n",
        "# print(version)\n",
        "# print(config)\n",
        "# a=np.zeros(10)\n",
        "# a[5]=1\n",
        "# print(a)\n",
        "# print(a.nbytes)\n",
        "# print(np.arange(0,50))\n",
        "# a=np.arange(9).reshape(3,3)\n",
        "# print(a)\n",
        "# zero= np.nonzero([1,2,0,0,4,0])\n",
        "# print(zero)\n",
        "# print(np.eye(3))\n",
        "# print(np.random.random((3,3,3)))\n",
        "# print(np.random.randint(0,10,size=(3,3,3)))\n",
        "# a= np.random.random((10,10))\n",
        "# print(a)\n",
        "# min,max=a.min(),a.max()\n",
        "# print(f\"the minimum value is {min} and max values is {max} from the randomly generated 10*10 matrix\")\n",
        "# a = np.random.random(30)\n",
        "# m = a.mean()\n",
        "# print(m)\n",
        "# Z = np.ones((10,10))\n",
        "# Z[1:-1,1:-1] = 0\n",
        "# print(Z)\n",
        "# a=np.zeros((5,5))\n",
        "# value=[1,2,3,4]\n",
        "# matrix=np.fill_diagonal(a[1:],value)\n",
        "# print(a)\n",
        "# print(np.unravel_index(99,(5,7,8)))\n",
        "# Z = np.tile( np.array([[0,1],[1,0]]), (4,4))\n",
        "# print(Z)\n",
        "# a=np.random.random((5,5))\n",
        "# min=np.min(a)\n",
        "# max=np.max(a)\n",
        "# normalized= (a-min)/(max-min)\n",
        "# print(normalized)\n",
        "# rgba=np.dtype([\n",
        "#     ('R',np.uint8),\n",
        "#     ('G',np.uint8),\n",
        "#     ('B',np.uint8),\n",
        "#     ('A',np.uint8),\n",
        "# ])\n",
        "# a=np.arange(1,11)\n",
        "# a[(3<a)&(a<8)]*=-1\n",
        "# print(a)\n",
        "# print(sum(range(10),-1))\n",
        "# yesterday = np.datetime64('today') - np.timedelta64(1)\n",
        "# today     = np.datetime64('today')\n",
        "# tomorrow  = np.datetime64('today') + np.timedelta64(1)\n",
        "# print(\"Yesterday:\", yesterday)\n",
        "# print(\"Today:\", today)\n",
        "# print(\"Tomorrow:\", tomorrow)\n",
        "# Z = np.arange('2024-03', '2024-04', dtype='datetime64[D]')\n",
        "# print(Z)\n",
        "# values = np.arange(5)\n",
        "# matrix = np.tile(values, (5, 1))\n",
        "# print(matrix)\n",
        "# a = np.random.random(10)\n",
        "# a.sort()\n",
        "# print(a)\n",
        "# a = np.arange(10)\n",
        "# np.add.reduce(a)\n",
        "# a=np.random.rand(5,5)\n",
        "# b=np.random.rand(5,5)\n",
        "# if np.array_equal(a, b):\n",
        "#   print(\"Arrays A and B are not equal\")\n",
        "# else:\n",
        "#     print(\"Arrays A and B are not equal.\")\n",
        "# we can use allclose function too for checking alternatively close value\n",
        "# arr = np.array([1, 2, 3, 4, 5])\n",
        "# arr.flags.writeable = False\n",
        "# arr[0] = 1 #this will raise error as the array is immutable in this case\n",
        "# a= np.random.random(10)\n",
        "# max_index = a.argmax()\n",
        "# a[max_index] = 0\n",
        "# print(a)"
      ]
    },
    {
      "cell_type": "code",
      "source": [],
      "metadata": {
        "id": "T7--mW1rwrRu"
      },
      "execution_count": null,
      "outputs": []
    }
  ]
}