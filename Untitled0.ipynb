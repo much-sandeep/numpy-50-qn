{
  "nbformat": 4,
  "nbformat_minor": 0,
  "metadata": {
    "colab": {
      "provenance": [],
      "authorship_tag": "ABX9TyPYtbX9gW9GhaJGYTZn6wCG",
      "include_colab_link": true
    },
    "kernelspec": {
      "name": "python3",
      "display_name": "Python 3"
    },
    "language_info": {
      "name": "python"
    }
  },
  "cells": [
    {
      "cell_type": "markdown",
      "metadata": {
        "id": "view-in-github",
        "colab_type": "text"
      },
      "source": [
        "<a href=\"https://colab.research.google.com/github/much-sandeep/numpy-50-qn/blob/main/Untitled0.ipynb\" target=\"_parent\"><img src=\"https://colab.research.google.com/assets/colab-badge.svg\" alt=\"Open In Colab\"/></a>"
      ]
    },
    {
      "cell_type": "code",
      "execution_count": null,
      "metadata": {
        "id": "z4sVG2bsZDeM"
      },
      "outputs": [],
      "source": []
    },
    {
      "cell_type": "code",
      "execution_count": null,
      "metadata": {
        "id": "PSwjDfh98sEI"
      },
      "outputs": [],
      "source": [
        "import re\n",
        "pattern=\"^[a-zA-Z0-9_]+.(edu|yahoo|hotmail|gmail|a-z)+\\.(com|org)\"\n",
        "user=input(\"enter for validation\")\n",
        "if(re.search(pattern,user)):\n",
        "  print(\"valid\")\n",
        "else:\n",
        "  print(\"valid\")"
      ]
    }
  ]
}